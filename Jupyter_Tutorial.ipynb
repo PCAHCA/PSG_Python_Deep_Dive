{
 "cells": [
  {
   "cell_type": "code",
   "execution_count": 3,
   "metadata": {},
   "outputs": [],
   "source": [
    "import pandas as pd"
   ]
  },
  {
   "cell_type": "markdown",
   "metadata": {},
   "source": [
    "Rough outline\n",
    "Scheme: You are in charge of sending out reports regarding Opioid presriptions to each state so that they become aware of \n",
    "1) The number of Opioid claims for each state\n",
    "2) The states ranking amongst other states\n",
    "3) the 5 year rate amongst other states\n",
    "\n",
    "Your final product will be a excel file for each of the 50 states that would then be ready to send out\n",
    " "
   ]
  },
  {
   "cell_type": "markdown",
   "metadata": {},
   "source": [
    "Step one: import the data to a Pandas DataFrame"
   ]
  },
  {
   "cell_type": "code",
   "execution_count": 6,
   "metadata": {},
   "outputs": [],
   "source": [
    "file_path = r\"C:\\Users\\NWO5225\\Documents\\Python\\Deep_Dive_Repo\\PSG_Python_Deep_Dive\\CMS_Opioid_DataSet.csv\"\n",
    "df = pd.read_csv(file_path)\n"
   ]
  },
  {
   "cell_type": "markdown",
   "metadata": {},
   "source": [
    "Print out the DataFrame, inspect it."
   ]
  },
  {
   "cell_type": "code",
   "execution_count": 8,
   "metadata": {},
   "outputs": [
    {
     "name": "stdout",
     "output_type": "stream",
     "text": [
      "<class 'pandas.core.frame.DataFrame'>\n",
      "RangeIndex: 1092 entries, 0 to 1091\n",
      "Data columns (total 14 columns):\n",
      " #   Column                          Non-Null Count  Dtype  \n",
      "---  ------                          --------------  -----  \n",
      " 0   Year                            1092 non-null   int64  \n",
      " 1   Geo_Lvl                         1092 non-null   object \n",
      " 2   Geo_Cd                          1071 non-null   float64\n",
      " 3   Geo_Desc                        1092 non-null   object \n",
      " 4   Plan_Type                       1092 non-null   object \n",
      " 5   Tot_Opioid_Clms                 1068 non-null   float64\n",
      " 6   Tot_Clms                        1090 non-null   float64\n",
      " 7   Opioid_Prscrbng_Rate            977 non-null    float64\n",
      " 8   Opioid_Prscrbng_Rate_5Y_Chg     135 non-null    float64\n",
      " 9   Opioid_Prscrbng_Rate_1Y_Chg     825 non-null    float64\n",
      " 10  LA_Tot_Opioid_Clms              1068 non-null   float64\n",
      " 11  LA_Opioid_Prscrbng_Rate         971 non-null    float64\n",
      " 12  LA_Opioid_Prscrbng_Rate_5Y_Chg  133 non-null    float64\n",
      " 13  LA_Opioid_Prscrbng_Rate_1Y_Chg  821 non-null    float64\n",
      "dtypes: float64(10), int64(1), object(3)\n",
      "memory usage: 119.6+ KB\n"
     ]
    }
   ],
   "source": [
    "#df\n",
    "#df.info()"
   ]
  },
  {
   "cell_type": "code",
   "execution_count": 10,
   "metadata": {},
   "outputs": [
    {
     "data": {
      "text/plain": [
       "[2019, 2018, 2017, 2016, 2015, 2014, 2013]"
      ]
     },
     "execution_count": 10,
     "metadata": {},
     "output_type": "execute_result"
    }
   ],
   "source": [
    "year_list = []\n",
    "for year in df[\"Year\"]:\n",
    "    if year not in year_list:\n",
    "        year_list.append(year)\n",
    "year_list"
   ]
  },
  {
   "cell_type": "markdown",
   "metadata": {},
   "source": [
    "Using a similar strategy, create a list of all 50 states called states_list"
   ]
  },
  {
   "cell_type": "code",
   "execution_count": 12,
   "metadata": {},
   "outputs": [
    {
     "data": {
      "text/plain": [
       "['Alabama',\n",
       " 'Alaska',\n",
       " 'Arizona',\n",
       " 'Arkansas',\n",
       " 'California',\n",
       " 'Colorado',\n",
       " 'Connecticut',\n",
       " 'Delaware',\n",
       " 'District of Columbia',\n",
       " 'Florida',\n",
       " 'Georgia',\n",
       " 'Hawaii',\n",
       " 'Idaho',\n",
       " 'Illinois',\n",
       " 'Indiana',\n",
       " 'Iowa',\n",
       " 'Kansas',\n",
       " 'Kentucky',\n",
       " 'Louisiana',\n",
       " 'Maine',\n",
       " 'Maryland',\n",
       " 'Massachusetts',\n",
       " 'Michigan',\n",
       " 'Minnesota',\n",
       " 'Mississippi',\n",
       " 'Missouri',\n",
       " 'Montana',\n",
       " 'Nebraska',\n",
       " 'Nevada',\n",
       " 'New Hampshire',\n",
       " 'New Jersey',\n",
       " 'New Mexico',\n",
       " 'New York',\n",
       " 'North Carolina',\n",
       " 'North Dakota',\n",
       " 'Ohio',\n",
       " 'Oklahoma',\n",
       " 'Oregon',\n",
       " 'Pennsylvania',\n",
       " 'Rhode Island',\n",
       " 'South Carolina',\n",
       " 'South Dakota',\n",
       " 'Tennessee',\n",
       " 'Texas',\n",
       " 'Utah',\n",
       " 'Vermont',\n",
       " 'Virginia',\n",
       " 'Washington',\n",
       " 'West Virginia',\n",
       " 'Wisconsin',\n",
       " 'Wyoming']"
      ]
     },
     "execution_count": 12,
     "metadata": {},
     "output_type": "execute_result"
    }
   ],
   "source": [
    "states_list = []\n",
    "for state in df[\"Geo_Desc\"]:\n",
    "    if state not in states_list:\n",
    "        states_list.append(state)\n",
    "states_list\n",
    "\n",
    "#BONUS: How could you adjust this loop to exclude the \"National\" Data?\n",
    "\n",
    "states_list = []\n",
    "for state in df[\"Geo_Desc\"]:\n",
    "    if state not in states_list and state != \"National\":\n",
    "        states_list.append(state)\n",
    "states_list"
   ]
  },
  {
   "cell_type": "markdown",
   "metadata": {},
   "source": [
    "For our purposes, we only need the total (\"All\") claims for each state and year. Therefore we want to remove the any rows that have a Plan_Type other than \"All\""
   ]
  },
  {
   "cell_type": "code",
   "execution_count": 22,
   "metadata": {},
   "outputs": [],
   "source": [
    "df = df.loc[df[\"Plan_Type\"]==\"All\"]"
   ]
  },
  {
   "cell_type": "markdown",
   "metadata": {},
   "source": [
    "Find the Total number of Medicare claims in Nevada in 2018. Print the result."
   ]
  },
  {
   "cell_type": "code",
   "execution_count": 23,
   "metadata": {},
   "outputs": [
    {
     "data": {
      "text/plain": [
       "243    6743954.0\n",
       "Name: Tot_Clms, dtype: float64"
      ]
     },
     "execution_count": 23,
     "metadata": {},
     "output_type": "execute_result"
    }
   ],
   "source": [
    "nevada_total_claims = df[\"Tot_Clms\"].loc[((df[\"Geo_Desc\"]==\"Nevada\") & ( df[\"Year\"] == 2018))]# & (df[\"Plan_Type\"]== \"All\"))]\n",
    "nevada_total_claims"
   ]
  },
  {
   "cell_type": "markdown",
   "metadata": {},
   "source": [
    "Find the Total number of Opioid claims in Virginia. Print the Result. "
   ]
  },
  {
   "cell_type": "code",
   "execution_count": 26,
   "metadata": {},
   "outputs": [
    {
     "data": {
      "text/plain": [
       "1077    730742.0\n",
       "Name: Tot_Opioid_Clms, dtype: float64"
      ]
     },
     "execution_count": 26,
     "metadata": {},
     "output_type": "execute_result"
    }
   ],
   "source": [
    "virginia_total_claims = df[\"Tot_Opioid_Clms\"].loc[((df[\"Geo_Desc\"]==\"Virginia\") & ( df[\"Year\"] == 2013))]# & (df[\"Plan_Type\"]== \"All\"))]\n",
    "virginia_total_claims"
   ]
  },
  {
   "cell_type": "markdown",
   "metadata": {},
   "source": [
    "Create a dictionary with a key for each state and the total Opioid claims from that state in 2018."
   ]
  },
  {
   "cell_type": "code",
   "execution_count": 30,
   "metadata": {},
   "outputs": [
    {
     "data": {
      "text/plain": [
       "288    890992.0\n",
       "Name: Tot_Opioid_Clms, dtype: float64"
      ]
     },
     "execution_count": 30,
     "metadata": {},
     "output_type": "execute_result"
    }
   ],
   "source": [
    "opioid_clms_2018 = {}\n",
    "\n",
    "for state in states_list:\n",
    "    opioid_clms_2018[state] = df[\"Tot_Opioid_Clms\"].loc[((df[\"Geo_Desc\"]==state) & ( df[\"Year\"] == 2018))]\n",
    "opioid_clms_2018['Texas']"
   ]
  }
 ],
 "metadata": {
  "interpreter": {
   "hash": "249084b7f580ffc45917ac4c9997a12beedded085493392961c2731d57509a00"
  },
  "kernelspec": {
   "display_name": "Python 3.9.7 ('venv': venv)",
   "language": "python",
   "name": "python3"
  },
  "language_info": {
   "codemirror_mode": {
    "name": "ipython",
    "version": 3
   },
   "file_extension": ".py",
   "mimetype": "text/x-python",
   "name": "python",
   "nbconvert_exporter": "python",
   "pygments_lexer": "ipython3",
   "version": "3.9.7"
  },
  "orig_nbformat": 4
 },
 "nbformat": 4,
 "nbformat_minor": 2
}
